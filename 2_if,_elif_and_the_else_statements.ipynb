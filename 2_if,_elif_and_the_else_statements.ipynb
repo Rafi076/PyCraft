{
 "cells": [
  {
   "cell_type": "code",
   "execution_count": 4,
   "metadata": {
    "colab": {
     "base_uri": "https://localhost:8080/"
    },
    "id": "RdWYWsXC609i",
    "outputId": "51344bfc-bf66-4bc8-abd9-0e03517159c0"
   },
   "outputs": [
    {
     "name": "stdout",
     "output_type": "stream",
     "text": [
      "Valid score. Total Number:  85\n"
     ]
    }
   ],
   "source": [
    "score_theory = 40\n",
    "score_practical = 45\n",
    "if(score_theory + score_practical > 100):\n",
    "  print(\"Invalid score. Please check the input.\")\n",
    "else:\n",
    "  print(\"Valid score. Total Number: \", score_theory + score_practical)\n"
   ]
  },
  {
   "cell_type": "code",
   "execution_count": 6,
   "metadata": {
    "colab": {
     "base_uri": "https://localhost:8080/"
    },
    "id": "k6aF0tAk7Z_Z",
    "outputId": "e7f703c9-a50f-41de-a751-2d48e36b13a7"
   },
   "outputs": [
    {
     "name": "stdout",
     "output_type": "stream",
     "text": [
      "Enter your score for Theory course: 44\n",
      "Enter your score for Practical: 34\n",
      "Score validated. Your total is:  78\n"
     ]
    }
   ],
   "source": [
    "score_theory = int(input(\"Enter your score for Theory course: \"))\n",
    "score_practical = int(input(\"Enter your score for Practical: \"))\n",
    "\n",
    "if(score_theory > 50):\n",
    "    print(\"Please check the input score for 'Theory'.\")\n",
    "elif(score_practical > 50):\n",
    "    print(\"Please check the input score for 'Practical'.\")\n",
    "else:\n",
    "    print(\"Score validated. Your total is: \",score_theory + score_practical)\n"
   ]
  },
  {
   "cell_type": "code",
   "execution_count": 8,
   "metadata": {
    "colab": {
     "base_uri": "https://localhost:8080/"
    },
    "id": "bbdnCFB77-Xp",
    "outputId": "735563f1-f94e-47d5-e433-b712e6d207d4"
   },
   "outputs": [
    {
     "name": "stdout",
     "output_type": "stream",
     "text": [
      "Enter your coursework: Science\n",
      "Enter your score for Theory course: 45\n",
      "Enter your score for Practical: 77\n",
      "Please check the input score for 'Science: Practical'.\n"
     ]
    }
   ],
   "source": [
    "#Nested if\n",
    "coursework = input(\"Enter your coursework: \")\n",
    "score_theory = int(input(\"Enter your score for Theory course: \"))\n",
    "score_practical = int(input(\"Enter your score for Practical: \"))\n",
    "\n",
    "if(coursework == \"Science\" or coursework == \"science\"):\n",
    "    if(score_theory > 50):\n",
    "        print(\"Please check the input score for 'Science: Theory'.\")\n",
    "    elif(score_practical > 50):\n",
    "            print(\"Please check the input score for 'Science: Practical'.\")\n",
    "    else:\n",
    "        print(\"Score validated for Science. Your total is: \",score_theory + score_practical)\n",
    "elif(coursework == \"English\" or coursework == \"english\"):\n",
    "    if(score_theory > 60):\n",
    "        print(\"Please check the input score for 'English: Theory'.\")\n",
    "    elif(score_practical > 40):\n",
    "            print(\"Please check the input score for 'English: Practical'.\")\n",
    "    else:\n",
    "        print(\"Score validated for English. Your total is: \",score_theory + score_practical)\n",
    "else: print(\"Coursework not recognised. Please enter score for either Science or English.\")\n"
   ]
  },
  {
   "cell_type": "code",
   "execution_count": 1,
   "metadata": {},
   "outputs": [
    {
     "name": "stdout",
     "output_type": "stream",
     "text": [
      "Under 5 to 10\n",
      "Finished\n"
     ]
    }
   ],
   "source": [
    "var = int(input(\"Enter a number : \") )\n",
    "if(var>5 and var<20):\n",
    "    print(\"Under 5 to 10\")\n",
    "elif(var>=21 and var<=45):\n",
    "    print(\"Under 21 to 45\")\n",
    "else:\n",
    "    print(\"Not acceptable\")\n",
    "\n",
    "print(\"Finished\")"
   ]
  },
  {
   "cell_type": "code",
   "execution_count": null,
   "metadata": {},
   "outputs": [],
   "source": []
  }
 ],
 "metadata": {
  "colab": {
   "provenance": []
  },
  "kernelspec": {
   "display_name": "base",
   "language": "python",
   "name": "python3"
  },
  "language_info": {
   "codemirror_mode": {
    "name": "ipython",
    "version": 3
   },
   "file_extension": ".py",
   "mimetype": "text/x-python",
   "name": "python",
   "nbconvert_exporter": "python",
   "pygments_lexer": "ipython3",
   "version": "3.12.7"
  }
 },
 "nbformat": 4,
 "nbformat_minor": 0
}
