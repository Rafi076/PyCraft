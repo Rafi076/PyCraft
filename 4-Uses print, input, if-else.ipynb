{
  "nbformat": 4,
  "nbformat_minor": 0,
  "metadata": {
    "colab": {
      "provenance": []
    },
    "kernelspec": {
      "name": "python3",
      "display_name": "Python 3"
    },
    "language_info": {
      "name": "python"
    }
  },
  "cells": [
    {
      "cell_type": "markdown",
      "source": [
        "# **Problems:**\n",
        "\n",
        "\n",
        "1.  Check if the input number is even or odd.\n",
        "2.  Check if the input string 1st character is any vowel.\n",
        "3. Write a Python program which accepts the radius of a circle from the user and compute the area.\n",
        "4. Write a Python program to convert temperatures to and from celsius, fahrenheit.\n",
        "5. Take input of age of 3 people by user and determine oldest and youngest among them.\n",
        "\n",
        "\n",
        "\n",
        "\n",
        "\n",
        "\n"
      ],
      "metadata": {
        "id": "5-EGYQSg9PUR"
      }
    },
    {
      "cell_type": "code",
      "source": [
        "#Check if the input number is even or odd.\n",
        "number = int(input(\"Enter a number: \"))\n",
        "if number % 2 == 0:\n",
        "  print(f\"{number} is even.\")\n",
        "else:\n",
        "  print(f\"{number} is odd.\")\n"
      ],
      "metadata": {
        "colab": {
          "base_uri": "https://localhost:8080/"
        },
        "id": "m1Lngq6196yG",
        "outputId": "9c20ed61-cd69-445e-fcd5-f11c4f5be53f"
      },
      "execution_count": 3,
      "outputs": [
        {
          "output_type": "stream",
          "name": "stdout",
          "text": [
            "Enter a number: 2\n",
            "2 is even.\n"
          ]
        }
      ]
    },
    {
      "cell_type": "code",
      "source": [
        "#Check if the input string 1st character is any vowel.\n",
        "string = input(\"Enter a string: \")\n",
        "if string[0]==\"a\" or string[0]==\"e\" or string[0]==\"i\" or string[0]==\"o\" or string[0]==\"u\" or string[0] =='A' or string[0]==\"E\" or string[0]==\"I\" or string[0]==\"O\" or string[0]==\"U\":\n",
        "    print(\"The first character is a vowel.\")\n",
        "else:\n",
        "    print(\"The first character is not a vowel.\")"
      ],
      "metadata": {
        "colab": {
          "base_uri": "https://localhost:8080/"
        },
        "id": "I-FOsDeA-1vZ",
        "outputId": "0aa447a7-f51a-449d-cb6c-7452ebe413fb"
      },
      "execution_count": 6,
      "outputs": [
        {
          "output_type": "stream",
          "name": "stdout",
          "text": [
            "Enter a string: EDU\n",
            "The first character is a vowel.\n"
          ]
        }
      ]
    },
    {
      "cell_type": "code",
      "source": [
        "#Write a Python program which accepts the radius of a circle from the user and compute the area.\n",
        "radius = float(input(\"Enter the radius of the circle: \"))\n",
        "area = 3.1416 * radius ** 2\n",
        "print(f\"The area of the circle is: {area:.2f}\")"
      ],
      "metadata": {
        "colab": {
          "base_uri": "https://localhost:8080/"
        },
        "id": "vmsLhBOZ_M5r",
        "outputId": "5472b93d-65ff-4ceb-be23-9fb709a8b9c2"
      },
      "execution_count": 7,
      "outputs": [
        {
          "output_type": "stream",
          "name": "stdout",
          "text": [
            "Enter the radius of the circle: 5.5\n",
            "The area of the circle is: 95.03\n"
          ]
        }
      ]
    },
    {
      "cell_type": "code",
      "source": [
        "#Write a Python program to convert temperatures to and from celsius, fahrenheit.\n",
        "choice = input(\"Type 'C' to convert from Fahrenheit to Celsius or 'F' to convert from Celsius to Fahrenheit: \").upper()\n",
        "if choice == 'C':\n",
        "    fahrenheit = float(input(\"Enter temperature in Fahrenheit: \"))\n",
        "    celsius = (fahrenheit - 32) * 5/9\n",
        "    print(\"Answer: \",celsius)\n",
        "elif choice == 'F':\n",
        "    celsius = float(input(\"Enter temperature in Celsius: \"))\n",
        "    fahrenheit = (celsius * 9/5) + 32\n",
        "    print(\"Answer: \",fahrenheit)\n",
        "else:\n",
        "    print(\"Invalid choice. Please enter 'C' or 'F'.\")"
      ],
      "metadata": {
        "colab": {
          "base_uri": "https://localhost:8080/"
        },
        "id": "bW2UpUsO_vHe",
        "outputId": "72669d10-5702-4da6-dee3-676aeb2bbe48"
      },
      "execution_count": 12,
      "outputs": [
        {
          "output_type": "stream",
          "name": "stdout",
          "text": [
            "Type 'C' to convert from Fahrenheit to Celsius or 'F' to convert from Celsius to Fahrenheit: F\n",
            "Enter temperature in Celsius: 32\n",
            "Answer:  89.6\n"
          ]
        }
      ]
    },
    {
      "cell_type": "code",
      "source": [
        "#Take input of age of 3 people by user and determine oldest and youngest among them.\n",
        "age1 = int(input(\"Enter the age of the first person: \"))\n",
        "age2 = int(input(\"Enter the age of the second person: \"))\n",
        "age3 = int(input(\"Enter the age of the third person: \"))\n",
        "if age1 >= age2 and age1 >= age3:\n",
        "  print(\"The oldest person is the first person.\")\n",
        "elif age2 >= age1 and age2 >= age3:\n",
        "  print(\"The oldest person is the second person.\")\n",
        "else:\n",
        "  print(\"The oldest person is the third person.\")\n",
        "\n",
        "if age1 <= age2 and age1 <= age3:\n",
        "  print(\"The youngest person is the first person.\")\n",
        "elif age2 <= age1 and age2 <= age3:\n",
        "  print(\"The youngest person is the second person.\")\n",
        "else:\n",
        "  print(\"The youngest person is the third person.\")"
      ],
      "metadata": {
        "colab": {
          "base_uri": "https://localhost:8080/"
        },
        "id": "WbtnIF8FArfN",
        "outputId": "83cb2688-29a2-48ec-8e74-9a03b1e48de0"
      },
      "execution_count": 14,
      "outputs": [
        {
          "output_type": "stream",
          "name": "stdout",
          "text": [
            "Enter the age of the first person: 23\n",
            "Enter the age of the second person: 32\n",
            "Enter the age of the third person: 11\n",
            "The oldest person is the second person.\n",
            "The youngest person is the third person.\n"
          ]
        }
      ]
    }
  ]
}