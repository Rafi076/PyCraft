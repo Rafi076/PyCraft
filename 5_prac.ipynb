{
 "cells": [
  {
   "cell_type": "code",
   "execution_count": 7,
   "metadata": {},
   "outputs": [
    {
     "name": "stdout",
     "output_type": "stream",
     "text": [
      "The string is a palindrome.\n"
     ]
    }
   ],
   "source": [
    "# String Palindrom Check\n",
    "s = input(\"Enter a string: \")\n",
    "    \n",
    "    # Convert the string to lowercase and remove non-alphanumeric characters\n",
    "s_cleaned = s.lower()\n",
    "    \n",
    "    # Check if the cleaned string is equal to its reverse\n",
    "if s_cleaned == s_cleaned[::-1]:\n",
    "        print(\"The string is a palindrome.\")\n",
    "else:\n",
    "        print(\"The string is not a palindrome.\")"
   ]
  },
  {
   "cell_type": "code",
   "execution_count": 2,
   "metadata": {},
   "outputs": [
    {
     "name": "stdout",
     "output_type": "stream",
     "text": [
      "olleh\n"
     ]
    }
   ],
   "source": [
    "# Reversed string \n",
    "text = \"hello\"\n",
    "reversed_text = text[::-1]\n",
    "print(reversed_text)  # Output: \"olleh\"\n"
   ]
  },
  {
   "cell_type": "code",
   "execution_count": 8,
   "metadata": {},
   "outputs": [
    {
     "name": "stdout",
     "output_type": "stream",
     "text": [
      "Counter({'a': 3, 's': 2, 'f': 2, 'b': 1})\n"
     ]
    }
   ],
   "source": [
    "# Conut Freq\n",
    "from collections import Counter\n",
    "s = input(\"Enter a string: \")\n",
    "print(Counter(s))"
   ]
  },
  {
   "cell_type": "code",
   "execution_count": 11,
   "metadata": {},
   "outputs": [
    {
     "name": "stdout",
     "output_type": "stream",
     "text": [
      "6 x 1 = 6\n",
      "6 x 2 = 12\n",
      "6 x 3 = 18\n",
      "6 x 4 = 24\n",
      "6 x 5 = 30\n",
      "6 x 6 = 36\n",
      "6 x 7 = 42\n",
      "6 x 8 = 48\n",
      "6 x 9 = 54\n",
      "6 x 10 = 60\n"
     ]
    }
   ],
   "source": [
    "# Multiplication Table of 6 using a loop\n",
    "for i in range(1, 11):  # Loop from 1 to 10\n",
    "    print(f\"6 x {i} = {6 * i}\")\n"
   ]
  },
  {
   "cell_type": "code",
   "execution_count": null,
   "metadata": {},
   "outputs": [
    {
     "name": "stdout",
     "output_type": "stream",
     "text": [
      "4 6 8 10 12 "
     ]
    }
   ],
   "source": [
    "# Problem- taking num and squre it \n",
    "def multiply_by_2(num):\n",
    "    return num * 2\n",
    "\n",
    "num = int(input(\"Enter total number of inputs: \"))\n",
    "\n",
    "\n",
    "values = []\n",
    "for i in range(num):\n",
    "    a_num = int(input(\"Enter a number: \"))\n",
    "    values.append(a_num)\n",
    "\n",
    "for i in values:\n",
    "    result = multiply_by_2(i)\n",
    "    print(result, end=' ')"
   ]
  },
  {
   "cell_type": "code",
   "execution_count": null,
   "metadata": {},
   "outputs": [
    {
     "name": "stdout",
     "output_type": "stream",
     "text": [
      "3 6 9 "
     ]
    }
   ],
   "source": [
    "# Quib\n",
    "def quib(num):\n",
    "     return num * 3\n",
    "\n",
    "test = int(input(\"Enter Number of test Case: \"))\n",
    "\n",
    "store = []\n",
    "for i in range(test):\n",
    "    digit = int(input(\"Enter digit : \"))\n",
    "    store.append(digit)\n",
    "\n",
    "for i in store:\n",
    "    result = quib(i)\n",
    "    print(result, end=' ')\n"
   ]
  },
  {
   "cell_type": "code",
   "execution_count": 23,
   "metadata": {},
   "outputs": [
    {
     "name": "stdout",
     "output_type": "stream",
     "text": [
      "Total Cost: 15\n",
      "Average: 3.0\n"
     ]
    }
   ],
   "source": [
    "# List sum & avarage\n",
    "\n",
    "def t_sum(i):\n",
    "    ts = 0\n",
    "    for c in i:\n",
    "        ts += c\n",
    "    return ts\n",
    "\n",
    "\n",
    "stor = []\n",
    "test = int(input(\"Enter the number of test case : \"))\n",
    "for i in range(test):\n",
    "    cost = int(input(\"Enter Each cost : \"))\n",
    "    stor.append(cost)\n",
    "\n",
    "total_sum = t_sum(stor)\n",
    "\n",
    "print(\"Total Cost:\", total_sum)\n",
    "print(\"Average:\", total_sum / test)"
   ]
  },
  {
   "cell_type": "code",
   "execution_count": null,
   "metadata": {},
   "outputs": [
    {
     "name": "stdout",
     "output_type": "stream",
     "text": [
      "0 1 1 2 3 "
     ]
    }
   ],
   "source": [
    "# Fibonacci serice\n",
    "def fibonacci(term):\n",
    "    a,b = 0,1\n",
    "    print(a,b, end=' ')\n",
    "    for i in range(2, term):\n",
    "        c = a+b\n",
    "        print(c, end=' ')\n",
    "        a,b = b,c\n",
    "        \n",
    "term = int(input(\"Enter the number of term \"))\n",
    "fibonacci(term)"
   ]
  },
  {
   "cell_type": "code",
   "execution_count": null,
   "metadata": {},
   "outputs": [],
   "source": []
  }
 ],
 "metadata": {
  "kernelspec": {
   "display_name": "base",
   "language": "python",
   "name": "python3"
  },
  "language_info": {
   "codemirror_mode": {
    "name": "ipython",
    "version": 3
   },
   "file_extension": ".py",
   "mimetype": "text/x-python",
   "name": "python",
   "nbconvert_exporter": "python",
   "pygments_lexer": "ipython3",
   "version": "3.12.7"
  }
 },
 "nbformat": 4,
 "nbformat_minor": 2
}
