{
 "cells": [
  {
   "cell_type": "code",
   "execution_count": 7,
   "metadata": {},
   "outputs": [
    {
     "name": "stdout",
     "output_type": "stream",
     "text": [
      "The string is a palindrome.\n"
     ]
    }
   ],
   "source": [
    "# String Palindrom Check\n",
    "s = input(\"Enter a string: \")\n",
    "    \n",
    "    # Convert the string to lowercase and remove non-alphanumeric characters\n",
    "s_cleaned = s.lower()\n",
    "    \n",
    "    # Check if the cleaned string is equal to its reverse\n",
    "if s_cleaned == s_cleaned[::-1]:\n",
    "        print(\"The string is a palindrome.\")\n",
    "else:\n",
    "        print(\"The string is not a palindrome.\")"
   ]
  },
  {
   "cell_type": "code",
   "execution_count": 2,
   "metadata": {},
   "outputs": [
    {
     "name": "stdout",
     "output_type": "stream",
     "text": [
      "olleh\n"
     ]
    }
   ],
   "source": [
    "# Reversed string \n",
    "text = \"hello\"\n",
    "reversed_text = text[::-1]\n",
    "print(reversed_text)  # Output: \"olleh\"\n"
   ]
  },
  {
   "cell_type": "code",
   "execution_count": 8,
   "metadata": {},
   "outputs": [
    {
     "name": "stdout",
     "output_type": "stream",
     "text": [
      "Counter({'a': 3, 's': 2, 'f': 2, 'b': 1})\n"
     ]
    }
   ],
   "source": [
    "# Conut Freq\n",
    "from collections import Counter\n",
    "s = input(\"Enter a string: \")\n",
    "print(Counter(s))"
   ]
  },
  {
   "cell_type": "code",
   "execution_count": 11,
   "metadata": {},
   "outputs": [
    {
     "name": "stdout",
     "output_type": "stream",
     "text": [
      "6 x 1 = 6\n",
      "6 x 2 = 12\n",
      "6 x 3 = 18\n",
      "6 x 4 = 24\n",
      "6 x 5 = 30\n",
      "6 x 6 = 36\n",
      "6 x 7 = 42\n",
      "6 x 8 = 48\n",
      "6 x 9 = 54\n",
      "6 x 10 = 60\n"
     ]
    }
   ],
   "source": [
    "# Multiplication Table of 6 using a loop\n",
    "for i in range(1, 11):  # Loop from 1 to 10\n",
    "    print(f\"6 x {i} = {6 * i}\")\n"
   ]
  },
  {
   "cell_type": "code",
   "execution_count": null,
   "metadata": {},
   "outputs": [
    {
     "name": "stdout",
     "output_type": "stream",
     "text": [
      "4 6 8 10 12 "
     ]
    }
   ],
   "source": [
    "# Problem- taking num and squre it \n",
    "def multiply_by_2(num):\n",
    "    return num * 2\n",
    "\n",
    "num = int(input(\"Enter total number of inputs: \"))\n",
    "\n",
    "\n",
    "values = []\n",
    "for i in range(num):\n",
    "    a_num = int(input(\"Enter a number: \"))\n",
    "    values.append(a_num)\n",
    "\n",
    "for i in values:\n",
    "    result = multiply_by_2(i)\n",
    "    print(result, end=' ')"
   ]
  },
  {
   "cell_type": "code",
   "execution_count": null,
   "metadata": {},
   "outputs": [
    {
     "name": "stdout",
     "output_type": "stream",
     "text": [
      "3 6 9 "
     ]
    }
   ],
   "source": [
    "# Quib\n",
    "def quib(num):\n",
    "     return num * 3\n",
    "\n",
    "test = int(input(\"Enter Number of test Case: \"))\n",
    "\n",
    "store = []\n",
    "for i in range(test):\n",
    "    digit = int(input(\"Enter digit : \"))\n",
    "    store.append(digit)\n",
    "\n",
    "for i in store:\n",
    "    result = quib(i)\n",
    "    print(result, end=' ')\n"
   ]
  },
  {
   "cell_type": "code",
   "execution_count": 23,
   "metadata": {},
   "outputs": [
    {
     "name": "stdout",
     "output_type": "stream",
     "text": [
      "Total Cost: 15\n",
      "Average: 3.0\n"
     ]
    }
   ],
   "source": [
    "# List sum & avarage\n",
    "\n",
    "def t_sum(i):\n",
    "    ts = 0\n",
    "    for c in i:\n",
    "        ts += c\n",
    "    return ts\n",
    "\n",
    "\n",
    "stor = []\n",
    "test = int(input(\"Enter the number of test case : \"))\n",
    "for i in range(test):\n",
    "    cost = int(input(\"Enter Each cost : \"))\n",
    "    stor.append(cost)\n",
    "\n",
    "total_sum = t_sum(stor)\n",
    "\n",
    "print(\"Total Cost:\", total_sum)\n",
    "print(\"Average:\", total_sum / test)"
   ]
  },
  {
   "cell_type": "code",
   "execution_count": null,
   "metadata": {},
   "outputs": [
    {
     "name": "stdout",
     "output_type": "stream",
     "text": [
      "0 1 1 2 3 "
     ]
    }
   ],
   "source": [
    "# Fibonacci serice\n",
    "def fibonacci(term):\n",
    "    a,b = 0,1\n",
    "    print(a,b, end=' ')\n",
    "    for i in range(2, term):\n",
    "        c = a+b\n",
    "        print(c, end=' ')\n",
    "        a,b = b,c\n",
    "        \n",
    "term = int(input(\"Enter the number of term \"))\n",
    "fibonacci(term)"
   ]
  },
  {
   "cell_type": "code",
   "execution_count": 28,
   "metadata": {},
   "outputs": [
    {
     "name": "stdout",
     "output_type": "stream",
     "text": [
      "\n",
      "The final dictionary is:\n",
      "{'name': 'rafi', 'age': '25', 'edu': 'cse', 'gen': 'male'}\n"
     ]
    }
   ],
   "source": [
    "# To create a dictionary where a user can input keys and values, \n",
    "# you can use a loop to ask the user for the inputs. \n",
    "# Here's a simple example:\n",
    "\n",
    "\n",
    "# Create an empty dictionary\n",
    "user_dict = {}\n",
    "\n",
    "# Ask the user how many key-value pairs they want to add\n",
    "n = int(input(\"How many items do you want to add to the dictionary? \"))\n",
    "\n",
    "# Loop to get user inputs\n",
    "for i in range(n):\n",
    "    key = input(f\"Enter key {i+1}: \")\n",
    "    value = input(f\"Enter value for key '{key}': \")\n",
    "    user_dict[key] = value  # Add the key-value pair to the dictionary\n",
    "\n",
    "# Print the final dictionary\n",
    "print(\"\\nThe final dictionary is:\")\n",
    "print(user_dict)\n",
    "\n"
   ]
  },
  {
   "cell_type": "code",
   "execution_count": 30,
   "metadata": {},
   "outputs": [
    {
     "data": {
      "text/plain": [
       "{'child1': {'name': 'Emil', 'year': 2004},\n",
       " 'child2': {'name': 'Tobias', 'year': 2007},\n",
       " 'child3': {'name': 'Linus', 'year': 2013}}"
      ]
     },
     "execution_count": 30,
     "metadata": {},
     "output_type": "execute_result"
    }
   ],
   "source": [
    "family = {\n",
    "    \"child1\": {\n",
    "        \"name\": \"Emil\",\n",
    "        \"year\": 2004\n",
    "    },\n",
    "    \"child2\": {\n",
    "        \"name\": \"Tobias\",\n",
    "        \"year\": 2007\n",
    "    },\n",
    "    \"child3\": {\n",
    "        \"name\": \"Linus\",\n",
    "        \"year\": 2011\n",
    "    }\n",
    "}\n",
    "family[\"child3\"][\"year\"] = int(input(\"Enter the new birth year for child3: \"))\n",
    "family"
   ]
  },
  {
   "cell_type": "code",
   "execution_count": 31,
   "metadata": {},
   "outputs": [
    {
     "name": "stdout",
     "output_type": "stream",
     "text": [
      "{'name': 'Rafi', 'age': 25, 'phone': '0121'}\n",
      "Rafi 25\n",
      "{'name': 'Rafi', 'age': 25, 'phone': '0121', 'job': 'Eng', 'country': 'bd'}\n",
      "{'name': 'Rafi', 'age': 25, 'phone': '0121', 'country': 'bd'}\n",
      "{'name': 'Rafi', 'phone': '0121', 'country': 'bd'}\n",
      "{'name': 'Rafi', 'phone': '0121'} ('country', 'bd')\n",
      "{'name': 'Rafi', 'phone': '0121', 'age': 26}\n",
      "name Rafi\n",
      "phone 0121\n",
      "age 26\n",
      "name\n",
      "phone\n",
      "age\n",
      "Rafi\n",
      "0121\n",
      "26\n",
      "3\n",
      "dict_keys(['name', 'phone', 'age']) dict_values(['Rafi', '0121', 26]) dict_items([('name', 'Rafi'), ('phone', '0121'), ('age', 26)])\n",
      "{'name': 'Rafi', 'phone': '0121', 'age': 26, 'job': 'Eng', 'hobby': 'reading'}\n",
      "not found\n"
     ]
    }
   ],
   "source": [
    "\n",
    "# Creating an empty dictionary\n",
    "dictt = {}\n",
    "# Creating a dictionary with key-value pairs\n",
    "dictt = {\n",
    "    'name':'Rafi',\n",
    "    'age':25,\n",
    "    'phone':'0121'\n",
    "    }\n",
    "print(dictt)\n",
    "# Output: {'name': 'Rafi', 'age': 25, 'phone': '0121'}\n",
    "\n",
    "\n",
    "# Accessing values using keys\n",
    "name = dictt['name']\n",
    "age = dictt.get('age')\n",
    "print(name,age)\n",
    "# Output: Rafi 25\n",
    "\n",
    "\n",
    "# Adding new key-value pairs to the dictionary\n",
    "dictt['job'] = 'Eng'\n",
    "dictt['country'] = 'bd'\n",
    "print(dictt)\n",
    "# Output: {'name': 'Rafi', 'age': 25, 'phone': '0121', 'job': 'Eng', 'country': 'bd'}\n",
    "\n",
    "\n",
    "# Deleting a key-value pair using del\n",
    "del dictt['job']\n",
    "print(dictt)\n",
    "# Output: {'name': 'Rafi', 'age': 25, 'phone': '0121', 'country': 'bd'}\n",
    "\n",
    "\n",
    "# Deleting a key-value pair using pop and returning the value\n",
    "age = dictt.pop('age')\n",
    "print(dictt)\n",
    "# Output: {'name': 'Rafi', 'phone': '0121', 'country': 'bd'}\n",
    "\n",
    "\n",
    "# Deleting the last inserted key-value pair using popitem and returning the key-value pair as a tuple\n",
    "last_item = dictt.popitem()\n",
    "print(dictt, last_item)\n",
    "# Output: {'name': 'Rafi', 'phone': '0121'} ('country', 'bd')\n",
    "\n",
    "\n",
    "# Updating the value of an existing key\n",
    "dictt['age'] = 26\n",
    "print(dictt)\n",
    "# Output: {'name': 'Rafi', 'phone': '0121', 'age': 26}\n",
    "\n",
    "\n",
    "\n",
    "# Iterating through the dictionary using items() to get key-value pairs\n",
    "for key, value in dictt.items():\n",
    "    print(key, value)\n",
    "# Output:\n",
    "# name Rafi\n",
    "# phone 0121\n",
    "# age 26\n",
    "\n",
    "\n",
    "# Iterating through the dictionary using keys only\n",
    "for i in dictt:\n",
    "   print(i)\n",
    "# Output:\n",
    "# name\n",
    "# phone\n",
    "# age\n",
    "\n",
    "\n",
    "# Iterating through the dictionary using values only\n",
    "for i in dictt.values():\n",
    "   print(i)\n",
    "# Output:\n",
    "# Rafi\n",
    "# 0121\n",
    "# 26\n",
    "\n",
    "\n",
    "# Finding the length of the dictionary\n",
    "length = len(dictt)\n",
    "print(length)\n",
    "# Output: 3\n",
    "\n",
    "\n",
    "# Using built-in functions keys(), values(), and items()\n",
    "key = dictt.keys()\n",
    "value = dictt.values()\n",
    "items = dictt.items()\n",
    "print(key, value, items)\n",
    "# Output: dict_keys(['name', 'phone', 'age']) dict_values(['Rafi', '0121', 26]) dict_items([('name', 'Rafi'), ('phone', '0121'), ('age', 26)])\n",
    "\n",
    "\n",
    "# Updating the dictionary using update()\n",
    "dictt.update({'job':'Eng','hobby':'reading'})\n",
    "print(dictt)\n",
    "# Output: {'name': 'Rafi', 'phone': '0121', 'age': 26, 'job': 'Eng', 'hobby': 'reading'}\n",
    "\n",
    "\n",
    "# Membership test using in and not in\n",
    "if 'salary' not in dictt:\n",
    "    print('not found')\n",
    "else:\n",
    "    print('found')\n",
    "# Output: not found"
   ]
  },
  {
   "cell_type": "code",
   "execution_count": 32,
   "metadata": {},
   "outputs": [
    {
     "name": "stdout",
     "output_type": "stream",
     "text": [
      "{'apple': 3, 'banana': 2, 'orange': 1}\n"
     ]
    }
   ],
   "source": [
    "\n",
    "# Example of counting word occurrences using a dictionary\n",
    "word = ['apple', 'banana','apple','orange','banana','apple']\n",
    "word_count = {}\n",
    "for i in word:\n",
    "    if i not in word_count:\n",
    "        word_count[i] = 1\n",
    "    else:\n",
    "        word_count[i] += 1\n",
    "print(word_count)\n",
    "# Output: {'apple': 3, 'banana': 2, 'orange': 1}"
   ]
  },
  {
   "cell_type": "code",
   "execution_count": null,
   "metadata": {},
   "outputs": [],
   "source": []
  }
 ],
 "metadata": {
  "kernelspec": {
   "display_name": "base",
   "language": "python",
   "name": "python3"
  },
  "language_info": {
   "codemirror_mode": {
    "name": "ipython",
    "version": 3
   },
   "file_extension": ".py",
   "mimetype": "text/x-python",
   "name": "python",
   "nbconvert_exporter": "python",
   "pygments_lexer": "ipython3",
   "version": "3.12.7"
  }
 },
 "nbformat": 4,
 "nbformat_minor": 2
}
