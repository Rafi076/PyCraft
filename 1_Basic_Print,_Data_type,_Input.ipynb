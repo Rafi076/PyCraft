{
 "cells": [
  {
   "cell_type": "code",
   "execution_count": 1,
   "metadata": {
    "colab": {
     "base_uri": "https://localhost:8080/"
    },
    "id": "-rKUn-CZ3-NH",
    "outputId": "32c8cd25-41e2-49b5-e1c3-e7277d5d4319"
   },
   "outputs": [
    {
     "name": "stdout",
     "output_type": "stream",
     "text": [
      "EDU\n"
     ]
    }
   ],
   "source": [
    "name = \"EDU\"\n",
    "print(name)"
   ]
  },
  {
   "cell_type": "code",
   "execution_count": 2,
   "metadata": {
    "colab": {
     "base_uri": "https://localhost:8080/"
    },
    "id": "FJ9j0P-H4M1X",
    "outputId": "94142945-5abd-412e-ee4b-e67a3b9a57c6"
   },
   "outputs": [
    {
     "name": "stdout",
     "output_type": "stream",
     "text": [
      "EDU\n"
     ]
    }
   ],
   "source": [
    "print(\"EDU\")"
   ]
  },
  {
   "cell_type": "code",
   "execution_count": 3,
   "metadata": {
    "colab": {
     "base_uri": "https://localhost:8080/"
    },
    "id": "-Y9CNNbV4dtG",
    "outputId": "1635e897-02e8-45c8-d4f1-43426d2d639d"
   },
   "outputs": [
    {
     "name": "stdout",
     "output_type": "stream",
     "text": [
      "<class 'int'>\n",
      "<class 'float'>\n",
      "<class 'complex'>\n",
      "<class 'str'>\n"
     ]
    }
   ],
   "source": [
    "#Datatype\n",
    "x = 10\n",
    "print( type(x) )\n",
    "\n",
    "x = 10.5\n",
    "print( type(x) )\n",
    "\n",
    "x = 1 + 2j\n",
    "print( type(x) )\n",
    "\n",
    "x = \"Hello Python\"\n",
    "print( type(x) )"
   ]
  },
  {
   "cell_type": "code",
   "execution_count": 4,
   "metadata": {
    "colab": {
     "base_uri": "https://localhost:8080/"
    },
    "id": "8mYuxrFw4h9f",
    "outputId": "23161122-779c-4e77-aa58-23be4c9b37d3"
   },
   "outputs": [
    {
     "name": "stdout",
     "output_type": "stream",
     "text": [
      "This is Hello Python\n"
     ]
    }
   ],
   "source": [
    "print(\"This is \" + str(x) ) #printed string with integer and converted int to str"
   ]
  },
  {
   "cell_type": "code",
   "execution_count": 5,
   "metadata": {
    "colab": {
     "base_uri": "https://localhost:8080/"
    },
    "id": "bTmdTVe94sBM",
    "outputId": "b91afb8e-45f7-479c-b5ed-c286888d0649"
   },
   "outputs": [
    {
     "name": "stdout",
     "output_type": "stream",
     "text": [
      "This is Hello Python and this is 50\n"
     ]
    }
   ],
   "source": [
    "y=50\n",
    "print(\"This is {} and this is {}\".format(x,y) )"
   ]
  },
  {
   "cell_type": "code",
   "execution_count": 7,
   "metadata": {},
   "outputs": [
    {
     "name": "stdout",
     "output_type": "stream",
     "text": [
      "Im Rafi.A 25 year old male. Conntact me 0123456\n"
     ]
    }
   ],
   "source": [
    "name = \"Rafi\"\n",
    "gender = \"male\"\n",
    "age = 25\n",
    "phone = '0123456'\n",
    "print(f\"Im {name}.A {age} year old {gender}. Conntact me {phone}\")"
   ]
  },
  {
   "cell_type": "code",
   "execution_count": null,
   "metadata": {
    "colab": {
     "base_uri": "https://localhost:8080/"
    },
    "id": "VqCpfjCr4-qN",
    "outputId": "d61397b1-deae-4742-db7f-456d0bd8c09f"
   },
   "outputs": [
    {
     "name": "stdout",
     "output_type": "stream",
     "text": [
      "This is 50 and this is Hello Python\n"
     ]
    }
   ],
   "source": [
    "print(\"This is {1} and this is {0}\".format(x,y) )"
   ]
  },
  {
   "cell_type": "code",
   "execution_count": null,
   "metadata": {
    "colab": {
     "base_uri": "https://localhost:8080/"
    },
    "id": "9BMgYHaz5EsN",
    "outputId": "ef6bcbd3-205f-48e1-f740-8c8d38e9dbd0"
   },
   "outputs": [
    {
     "name": "stdout",
     "output_type": "stream",
     "text": [
      "This is Hello Python and this is 50\n"
     ]
    }
   ],
   "source": [
    "print(f\"This is {x} and this is {y}\")"
   ]
  },
  {
   "cell_type": "code",
   "execution_count": null,
   "metadata": {
    "colab": {
     "base_uri": "https://localhost:8080/"
    },
    "id": "73c6rUUg5KRc",
    "outputId": "9617df9d-00fe-45f5-95bb-c73195362a7c"
   },
   "outputs": [
    {
     "name": "stdout",
     "output_type": "stream",
     "text": [
      "Enter a value: 5\n",
      "The entered value is:  5\n"
     ]
    }
   ],
   "source": [
    "#user input\n",
    "inp = int(input(\"Enter a value: \"))\n",
    "print(\"The entered value is: \",inp)"
   ]
  },
  {
   "cell_type": "code",
   "execution_count": 9,
   "metadata": {},
   "outputs": [
    {
     "name": "stdout",
     "output_type": "stream",
     "text": [
      "rafi\n"
     ]
    }
   ],
   "source": [
    "name = input(\"Enter Your Name:\")\n",
    "print(name)"
   ]
  },
  {
   "cell_type": "code",
   "execution_count": null,
   "metadata": {
    "colab": {
     "base_uri": "https://localhost:8080/"
    },
    "id": "nR3sgP5k5SYD",
    "outputId": "d58e24f4-a5bc-4b3e-ec3e-0c49a809c1e3"
   },
   "outputs": [
    {
     "name": "stdout",
     "output_type": "stream",
     "text": [
      "Enter the value of b:10.9\n",
      "10.9\n"
     ]
    }
   ],
   "source": [
    "b= float(input(\"Enter the value of b:\"))\n",
    "print(b)"
   ]
  },
  {
   "cell_type": "code",
   "execution_count": null,
   "metadata": {
    "colab": {
     "base_uri": "https://localhost:8080/"
    },
    "id": "BdhGR2Wh5Vls",
    "outputId": "4c12fab2-c9e4-4528-a4f8-498312decc04"
   },
   "outputs": [
    {
     "name": "stdout",
     "output_type": "stream",
     "text": [
      "5\n",
      "5\n",
      "<class 'str'>\n"
     ]
    }
   ],
   "source": [
    "#python by default take inputs as strings if the data type is not mentioned\n",
    "c=input()\n",
    "print(c)\n",
    "print( type(c) )"
   ]
  },
  {
   "cell_type": "code",
   "execution_count": null,
   "metadata": {},
   "outputs": [
    {
     "name": "stdout",
     "output_type": "stream",
     "text": [
      "17\n"
     ]
    },
    {
     "data": {
      "text/plain": [
       "False"
      ]
     },
     "execution_count": 13,
     "metadata": {},
     "output_type": "execute_result"
    }
   ],
   "source": [
    "text = \"Python is awesome\"\n",
    "print(len(text))       # Output: 17\n",
    "\n",
    "'Python' in text  # Output: True\n",
    "\n",
    "'Java' in text   # Output: False"
   ]
  },
  {
   "cell_type": "code",
   "execution_count": 26,
   "metadata": {},
   "outputs": [
    {
     "name": "stdout",
     "output_type": "stream",
     "text": [
      "hello\n"
     ]
    }
   ],
   "source": [
    "# Example:\n",
    "text = \"Hello\"\n",
    "# text[0] = 'h'  # This will raise an error, as strings are immutable\n",
    "\n",
    "new_text = 'h' + text[1:]  # This creates a new string\n",
    "print(new_text)  # Output: hello"
   ]
  },
  {
   "cell_type": "code",
   "execution_count": null,
   "metadata": {},
   "outputs": [],
   "source": []
  }
 ],
 "metadata": {
  "colab": {
   "provenance": []
  },
  "kernelspec": {
   "display_name": "base",
   "language": "python",
   "name": "python3"
  },
  "language_info": {
   "codemirror_mode": {
    "name": "ipython",
    "version": 3
   },
   "file_extension": ".py",
   "mimetype": "text/x-python",
   "name": "python",
   "nbconvert_exporter": "python",
   "pygments_lexer": "ipython3",
   "version": "3.12.7"
  }
 },
 "nbformat": 4,
 "nbformat_minor": 0
}
